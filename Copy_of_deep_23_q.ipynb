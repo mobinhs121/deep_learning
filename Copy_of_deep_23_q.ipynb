{
  "cells": [
    {
      "cell_type": "markdown",
      "metadata": {
        "id": "view-in-github",
        "colab_type": "text"
      },
      "source": [
        "<a href=\"https://colab.research.google.com/github/mobinhs121/deep_learning/blob/main/Copy_of_deep_23_q.ipynb\" target=\"_parent\"><img src=\"https://colab.research.google.com/assets/colab-badge.svg\" alt=\"Open In Colab\"/></a>"
      ]
    },
    {
      "cell_type": "markdown",
      "metadata": {
        "id": "QoOcvtt4Fizb"
      },
      "source": [
        "## CNN-Project-Exercise-Solutions\n",
        "We'll be using the CIFAR-10 dataset, which is very famous dataset for image recognition!\n",
        "\n",
        "The CIFAR-10 dataset consists of 60000 32x32 colour images in 10 classes, with 6000 images per class. There are 50000 training images and 10000 test images.\n",
        "\n",
        "The dataset is divided into five training batches and one test batch, each with 10000 images. The test batch contains exactly 1000 randomly-selected images from each class. The training batches contain the remaining images in random order, but some training batches may contain more images from one class than another. Between them, the training batches contain exactly 5000 images from each class.\n",
        "\n",
        "### Follow the Instructions in Bold, if you get stuck somewhere, view the solutions video!"
      ]
    },
    {
      "cell_type": "markdown",
      "metadata": {
        "id": "V_HMspCCFize"
      },
      "source": [
        "## Step 0: Get the Data\n",
        "\n",
        "** *Note: If you have trouble with this just watch the solutions video. This doesn't really have anything to do with the exercise, its more about setting up your data. Please make sure to watch the solutions video before posting any QA questions.* **"
      ]
    },
    {
      "cell_type": "markdown",
      "metadata": {
        "id": "2ALzfJqRFizf"
      },
      "source": [
        "** Download the data for CIFAR from here: https://www.cs.toronto.edu/~kriz/cifar.html **\n",
        "\n",
        "**Specifically the CIFAR-10 python version link: https://www.cs.toronto.edu/~kriz/cifar-10-python.tar.gz **\n",
        "\n",
        "** Remember the directory you save the file in! **"
      ]
    },
    {
      "cell_type": "code",
      "execution_count": 56,
      "metadata": {
        "id": "MQq9N3JoFizf"
      },
      "outputs": [],
      "source": [
        "# Put file path as a string here\n",
        "CIFAR_DIR = '/content/cifar-10-batches-py/'"
      ]
    },
    {
      "cell_type": "markdown",
      "source": [
        "!"
      ],
      "metadata": {
        "id": "AWVqrcHEIQHO"
      }
    },
    {
      "cell_type": "code",
      "source": [
        "!wget  https://www.cs.toronto.edu/~kriz/cifar-10-python.tar.gz"
      ],
      "metadata": {
        "colab": {
          "base_uri": "https://localhost:8080/"
        },
        "id": "q8mFXSEV-3Po",
        "outputId": "bf6ad865-2dd5-4aaf-d5e5-e6a742f38d78"
      },
      "execution_count": 26,
      "outputs": [
        {
          "output_type": "stream",
          "name": "stdout",
          "text": [
            "--2023-08-15 11:36:56--  https://www.cs.toronto.edu/~kriz/cifar-10-python.tar.gz\n",
            "Resolving www.cs.toronto.edu (www.cs.toronto.edu)... 128.100.3.30\n",
            "Connecting to www.cs.toronto.edu (www.cs.toronto.edu)|128.100.3.30|:443... connected.\n",
            "HTTP request sent, awaiting response... 200 OK\n",
            "Length: 170498071 (163M) [application/x-gzip]\n",
            "Saving to: ‘cifar-10-python.tar.gz’\n",
            "\n",
            "cifar-10-python.tar 100%[===================>] 162.60M  99.7MB/s    in 1.6s    \n",
            "\n",
            "2023-08-15 11:36:58 (99.7 MB/s) - ‘cifar-10-python.tar.gz’ saved [170498071/170498071]\n",
            "\n"
          ]
        }
      ]
    },
    {
      "cell_type": "code",
      "source": [
        "!tar -xf cifar-10-python.tar.gz"
      ],
      "metadata": {
        "id": "SiTVLWVS_Fq8"
      },
      "execution_count": 28,
      "outputs": []
    },
    {
      "cell_type": "markdown",
      "metadata": {
        "id": "e9ga26tNFizg"
      },
      "source": [
        "The archive contains the files data_batch_1, data_batch_2, ..., data_batch_5, as well as test_batch. Each of these files is a Python \"pickled\" object produced with cPickle.\n",
        "\n",
        "** Load the Data. Use the Code Below to load the data: **"
      ]
    },
    {
      "cell_type": "code",
      "execution_count": 57,
      "metadata": {
        "id": "WYTVV14BFizg"
      },
      "outputs": [],
      "source": [
        "def unpickle(file):\n",
        "    import pickle\n",
        "    with open(file, 'rb') as fo:\n",
        "        cifar_dict = pickle.load(fo, encoding='bytes')\n",
        "    return cifar_dict"
      ]
    },
    {
      "cell_type": "code",
      "execution_count": 58,
      "metadata": {
        "id": "SliqiybbFizh"
      },
      "outputs": [],
      "source": [
        "dirs = ['batches.meta','data_batch_1',\n",
        "        'data_batch_2','data_batch_3',\n",
        "        'data_batch_4','data_batch_5',\n",
        "        'test_batch']"
      ]
    },
    {
      "cell_type": "code",
      "execution_count": 59,
      "metadata": {
        "id": "ahv5JebIFizh"
      },
      "outputs": [],
      "source": [
        "all_data = [0,1,2,3,4,5,6]"
      ]
    },
    {
      "cell_type": "code",
      "execution_count": 60,
      "metadata": {
        "id": "86pfXK0kFizi"
      },
      "outputs": [],
      "source": [
        "for i,direc in zip(all_data,dirs):\n",
        "    all_data[i] = unpickle(CIFAR_DIR+direc)\n",
        ""
      ]
    },
    {
      "cell_type": "code",
      "execution_count": 61,
      "metadata": {
        "id": "q7OrjIV8Fizi"
      },
      "outputs": [],
      "source": [
        "batch_meta = all_data[0]\n",
        "data_batch1 = all_data[1]\n",
        "data_batch2 = all_data[2]\n",
        "data_batch3 = all_data[3]\n",
        "data_batch4 = all_data[4]\n",
        "data_batch5 = all_data[5]\n",
        "test_batch = all_data[6]"
      ]
    },
    {
      "cell_type": "code",
      "execution_count": 62,
      "metadata": {
        "id": "agp8uy8eFizj",
        "outputId": "2b799895-db61-4fe2-a582-563be6b56456",
        "colab": {
          "base_uri": "https://localhost:8080/"
        }
      },
      "outputs": [
        {
          "output_type": "execute_result",
          "data": {
            "text/plain": [
              "{b'num_cases_per_batch': 10000,\n",
              " b'label_names': [b'airplane',\n",
              "  b'automobile',\n",
              "  b'bird',\n",
              "  b'cat',\n",
              "  b'deer',\n",
              "  b'dog',\n",
              "  b'frog',\n",
              "  b'horse',\n",
              "  b'ship',\n",
              "  b'truck'],\n",
              " b'num_vis': 3072}"
            ]
          },
          "metadata": {},
          "execution_count": 62
        }
      ],
      "source": [
        "batch_meta"
      ]
    },
    {
      "cell_type": "markdown",
      "metadata": {
        "id": "25a0mivkFizk"
      },
      "source": [
        "** Why the 'b's in front of the string? **\n",
        "Bytes literals are always prefixed with 'b' or 'B'; they produce an instance of the bytes type instead of the str type. They may only contain ASCII characters; bytes with a numeric value of 128 or greater must be expressed with escapes.\n",
        "\n",
        "https://stackoverflow.com/questions/6269765/what-does-the-b-character-do-in-front-of-a-string-literal"
      ]
    },
    {
      "cell_type": "code",
      "execution_count": 63,
      "metadata": {
        "id": "2xDxIU5tFizl",
        "outputId": "37e3146b-8392-4aa2-dce3-6c37fc828572",
        "colab": {
          "base_uri": "https://localhost:8080/"
        }
      },
      "outputs": [
        {
          "output_type": "execute_result",
          "data": {
            "text/plain": [
              "dict_keys([b'batch_label', b'labels', b'data', b'filenames'])"
            ]
          },
          "metadata": {},
          "execution_count": 63
        }
      ],
      "source": [
        "data_batch1.keys()"
      ]
    },
    {
      "cell_type": "markdown",
      "metadata": {
        "id": "npePrnd1Fizl"
      },
      "source": [
        "Loaded in this way, each of the batch files contains a dictionary with the following elements:\n",
        "* data -- a 10000x3072 numpy array of uint8s. Each row of the array stores a 32x32 colour image. The first 1024 entries contain the red channel values, the next 1024 the green, and the final 1024 the blue. The image is stored in row-major order, so that the first 32 entries of the array are the red channel values of the first row of the image.\n",
        "* labels -- a list of 10000 numbers in the range 0-9. The number at index i indicates the label of the ith image in the array data.\n",
        "\n",
        "The dataset contains another file, called batches.meta. It too contains a Python dictionary object. It has the following entries:\n",
        "\n",
        "* label_names -- a 10-element list which gives meaningful names to the numeric labels in the labels array described above. For example, label_names[0] == \"airplane\", label_names[1] == \"automobile\", etc."
      ]
    },
    {
      "cell_type": "markdown",
      "metadata": {
        "id": "BKYboDP2Fizl"
      },
      "source": [
        "### Display a single image using matplotlib.\n",
        "\n",
        "** Grab a single image from data_batch1 and"
      ]
    },
    {
      "cell_type": "code",
      "execution_count": 64,
      "metadata": {
        "id": "DUlZJIErFizm"
      },
      "outputs": [],
      "source": [
        "import matplotlib.pyplot as plt\n",
        "%matplotlib inline\n",
        "\n",
        "import numpy as np"
      ]
    },
    {
      "cell_type": "code",
      "execution_count": 65,
      "metadata": {
        "id": "lwWEfY18Fizm"
      },
      "outputs": [],
      "source": [
        "X = data_batch1[b\"data\"]"
      ]
    },
    {
      "cell_type": "code",
      "execution_count": 66,
      "metadata": {
        "id": "9MABuvf8Fizm",
        "outputId": "28bc137f-495f-4423-8a6c-9b5846355267",
        "colab": {
          "base_uri": "https://localhost:8080/"
        }
      },
      "outputs": [
        {
          "output_type": "execute_result",
          "data": {
            "text/plain": [
              "(10000, 3072)"
            ]
          },
          "metadata": {},
          "execution_count": 66
        }
      ],
      "source": [
        "X.shape"
      ]
    },
    {
      "cell_type": "code",
      "execution_count": 67,
      "metadata": {
        "id": "wYlnXVGXFizn"
      },
      "outputs": [],
      "source": [
        "X = X.reshape(10000, 3, 32, 32).transpose(0,2,3,1)"
      ]
    },
    {
      "cell_type": "code",
      "execution_count": 68,
      "metadata": {
        "id": "CpErRkffFizn",
        "outputId": "7082c7cb-e42a-4f87-853a-82fda00ebc4d",
        "colab": {
          "base_uri": "https://localhost:8080/"
        }
      },
      "outputs": [
        {
          "output_type": "execute_result",
          "data": {
            "text/plain": [
              "dtype('uint8')"
            ]
          },
          "metadata": {},
          "execution_count": 68
        }
      ],
      "source": [
        "X[0].dtype"
      ]
    },
    {
      "cell_type": "code",
      "execution_count": 69,
      "metadata": {
        "id": "T1JV0oR3Fizn",
        "outputId": "975ea953-37d1-4a1d-f57e-531f253b3776",
        "colab": {
          "base_uri": "https://localhost:8080/"
        }
      },
      "outputs": [
        {
          "output_type": "execute_result",
          "data": {
            "text/plain": [
              "255"
            ]
          },
          "metadata": {},
          "execution_count": 69
        }
      ],
      "source": [
        "X[0].max()"
      ]
    },
    {
      "cell_type": "code",
      "execution_count": 70,
      "metadata": {
        "id": "-V5iNaGpFizo",
        "outputId": "a137d8f2-67ca-4bb0-defa-f8033317c584",
        "colab": {
          "base_uri": "https://localhost:8080/"
        }
      },
      "outputs": [
        {
          "output_type": "execute_result",
          "data": {
            "text/plain": [
              "1.0"
            ]
          },
          "metadata": {},
          "execution_count": 70
        }
      ],
      "source": [
        "(X[0]/255).max()"
      ]
    },
    {
      "cell_type": "code",
      "execution_count": 72,
      "metadata": {
        "id": "Dyn4jwC3Fizp",
        "outputId": "fed43c9e-7df6-466a-f606-11e67d646e52",
        "colab": {
          "base_uri": "https://localhost:8080/",
          "height": 430
        }
      },
      "outputs": [
        {
          "output_type": "display_data",
          "data": {
            "text/plain": [
              "<Figure size 640x480 with 1 Axes>"
            ],
            "image/png": "[encoded data removed]"
          },
          "metadata": {}
        }
      ],
      "source": [
        "plt.imshow(X[0]);"
      ]
    },
    {
      "cell_type": "code",
      "execution_count": 73,
      "metadata": {
        "id": "GVOCdsb6Fizp",
        "outputId": "5348afd5-22d6-4f01-a630-3cc5b62d90e8",
        "colab": {
          "base_uri": "https://localhost:8080/",
          "height": 430
        }
      },
      "outputs": [
        {
          "output_type": "display_data",
          "data": {
            "text/plain": [
              "<Figure size 640x480 with 1 Axes>"
            ],
            "image/png": "[encoded data removed]"
          },
          "metadata": {}
        }
      ],
      "source": [
        "plt.imshow(X[1]);"
      ]
    },
    {
      "cell_type": "code",
      "execution_count": 74,
      "metadata": {
        "id": "LJ-4cRtBFizp",
        "outputId": "923e2d9b-54d2-47a4-c657-da6a8cee9340",
        "colab": {
          "base_uri": "https://localhost:8080/",
          "height": 447
        }
      },
      "outputs": [
        {
          "output_type": "execute_result",
          "data": {
            "text/plain": [
              "<matplotlib.image.AxesImage at 0x7f9868597520>"
            ]
          },
          "metadata": {},
          "execution_count": 74
        },
        {
          "output_type": "display_data",
          "data": {
            "text/plain": [
              "<Figure size 640x480 with 1 Axes>"
            ],
            "image/png": "[encoded data removed]"
          },
          "metadata": {}
        }
      ],
      "source": [
        "plt.imshow(X[4])"
      ]
    },
    {
      "cell_type": "markdown",
      "metadata": {
        "id": "JB887pJzFizq"
      },
      "source": [
        "# Helper Functions for Dealing With Data.\n",
        "\n",
        "** Use the provided code below to help with dealing with grabbing the next batch once you've gotten ready to create the Graph Session. Can you break down how it works? **"
      ]
    },
    {
      "cell_type": "code",
      "execution_count": 75,
      "metadata": {
        "id": "CRTo1-azFizq"
      },
      "outputs": [],
      "source": [
        "def one_hot_encode(vec, vals=10):\n",
        "    '''\n",
        "    For use to one-hot encode the 10- possible labels\n",
        "    '''\n",
        "    n = len(vec)\n",
        "    out = np.zeros((n, vals))\n",
        "    out[range(n), vec] = 1\n",
        "    return out"
      ]
    },
    {
      "cell_type": "code",
      "execution_count": 76,
      "metadata": {
        "id": "SnZNOW8BFizr"
      },
      "outputs": [],
      "source": [
        "class CifarHelper():\n",
        "\n",
        "    def __init__(self):\n",
        "        self.i = 0\n",
        "\n",
        "        self.all_train_batches = [data_batch1,\n",
        "                                  data_batch2,\n",
        "                                  data_batch3,\n",
        "                                  data_batch4,\n",
        "                                  data_batch5]\n",
        "        self.test_batch = [test_batch]\n",
        "\n",
        "        self.training_images = None\n",
        "        self.training_labels = None\n",
        "\n",
        "        self.test_images = None\n",
        "        self.test_labels = None\n",
        "\n",
        "    def set_up_images(self):\n",
        "\n",
        "        print(\"Setting Up Training Images and Labels\")\n",
        "\n",
        "        self.training_images = np.vstack(\n",
        "            [d[b\"data\"] for d in self.all_train_batches])\n",
        "        train_len = len(self.training_images)\n",
        "\n",
        "        self.training_images = self.training_images.reshape(\n",
        "            train_len,3,32,32).transpose(0,2,3,1)/255\n",
        "        self.training_labels = one_hot_encode(\n",
        "            np.hstack(\n",
        "                [d[b\"labels\"] for d in self.all_train_batches]),\n",
        "            10)\n",
        "\n",
        "        print(\"Setting Up Test Images and Labels\")\n",
        "\n",
        "        self.test_images = np.vstack(\n",
        "            [d[b\"data\"] for d in self.test_batch])\n",
        "        test_len = len(self.test_images)\n",
        "\n",
        "        self.test_images = self.test_images.reshape(\n",
        "            test_len,3,32,32).transpose(0,2,3,1)/255\n",
        "        self.test_labels = one_hot_encode(\n",
        "            np.hstack([d[b\"labels\"] for d in self.test_batch]),\n",
        "            10)\n",
        "\n",
        "\n",
        "    def next_batch(self, batch_size):\n",
        "        x = self.training_images[\n",
        "            self.i:self.i+batch_size].reshape(100,32,32,3)\n",
        "        y = self.training_labels[\n",
        "            self.i:self.i+batch_size]\n",
        "        self.i = (self.i + batch_size) % len(self.training_images)\n",
        "        return x, y"
      ]
    },
    {
      "cell_type": "markdown",
      "metadata": {
        "id": "sUCmckEKFizr"
      },
      "source": [
        "** How to use the above code: **"
      ]
    },
    {
      "cell_type": "code",
      "execution_count": 77,
      "metadata": {
        "id": "bEyBt9I6Fizr",
        "outputId": "af08c72e-85fd-4939-a5fa-7b598cdb6022",
        "colab": {
          "base_uri": "https://localhost:8080/"
        }
      },
      "outputs": [
        {
          "output_type": "stream",
          "name": "stdout",
          "text": [
            "Setting Up Training Images and Labels\n",
            "Setting Up Test Images and Labels\n"
          ]
        }
      ],
      "source": [
        "# Before Your tf.Session run these two lines\n",
        "ch = CifarHelper()\n",
        "ch.set_up_images()\n",
        "\n",
        "# During your session to grab the next batch use this line\n",
        "# (Just like we did for mnist.train.next_batch)\n",
        "# batch = ch.next_batch(100)"
      ]
    },
    {
      "cell_type": "markdown",
      "metadata": {
        "id": "EBkW1Z5zFizs"
      },
      "source": [
        "## Creating the Model\n",
        "\n",
        "** Import tensorflow **"
      ]
    },
    {
      "cell_type": "code",
      "execution_count": 78,
      "metadata": {
        "id": "DfXJR-4nFizv",
        "outputId": "769dbf73-a376-4f1b-dc40-0dd018cb1f78",
        "colab": {
          "base_uri": "https://localhost:8080/"
        }
      },
      "outputs": [
        {
          "output_type": "stream",
          "name": "stderr",
          "text": [
            "WARNING:tensorflow:From /usr/local/lib/python3.10/dist-packages/tensorflow/python/compat/v2_compat.py:107: disable_resource_variables (from tensorflow.python.ops.variable_scope) is deprecated and will be removed in a future version.\n",
            "Instructions for updating:\n",
            "non-resource variables are not supported in the long term\n"
          ]
        }
      ],
      "source": [
        "import tensorflow.compat.v1 as tf\n",
        "tf.disable_v2_behavior()"
      ]
    },
    {
      "cell_type": "markdown",
      "metadata": {
        "id": "Imgkl43QFizw"
      },
      "source": [
        "** Create 2 placeholders, x and y_true. Their shapes should be: **\n",
        "\n",
        "* x shape = [None,32,32,3]\n",
        "* y_true shape = [None,10]\n"
      ]
    },
    {
      "cell_type": "code",
      "execution_count": 80,
      "metadata": {
        "id": "0wv1t6SCFizw"
      },
      "outputs": [],
      "source": [
        "x = tf.placeholder(tf.float32,shape = [None,32,32,3])\n",
        "y_true = tf.placeholder(tf.float32,shape = [None,10])"
      ]
    },
    {
      "cell_type": "markdown",
      "metadata": {
        "id": "kjxDjkmsFizw"
      },
      "source": [
        "** Create one more placeholder called hold_prob. No need for shape here. This placeholder will just hold a single probability for the dropout. **"
      ]
    },
    {
      "cell_type": "code",
      "execution_count": 81,
      "metadata": {
        "id": "Nzh3Z4N-Fizw"
      },
      "outputs": [],
      "source": [
        "hold_prob = tf.placeholder(tf.float32)"
      ]
    },
    {
      "cell_type": "markdown",
      "metadata": {
        "id": "_tEV_305Fizw"
      },
      "source": [
        "### Helper Functions\n",
        "\n",
        "** Grab the helper functions from MNIST with CNN (or recreate them here yourself for a hard challenge!). You'll need: **\n",
        "\n",
        "* init_weights\n",
        "* init_bias\n",
        "* conv2d\n",
        "* max_pool_2by2\n",
        "* convolutional_layer\n",
        "* normal_full_layer"
      ]
    },
    {
      "cell_type": "code",
      "execution_count": 82,
      "metadata": {
        "id": "HGFgZ1qaFizx"
      },
      "outputs": [],
      "source": [
        "def init_weights(shape):\n",
        "    init_random_dist = tf.truncated_normal(shape, stddev=0.1)\n",
        "    return tf.Variable(init_random_dist)\n",
        "\n",
        "def init_bias(shape):\n",
        "    init_bias_vals = tf.constant(0.1, shape=shape)\n",
        "    return tf.Variable(init_bias_vals)\n",
        "\n",
        "def conv2d(x, W):\n",
        "    return tf.nn.conv2d(x, W, strides=[1, 1, 1, 1],\n",
        "                        padding='SAME')\n",
        "\n",
        "def max_pool_2by2(x):\n",
        "    return tf.nn.max_pool(x, ksize=[1, 2, 2, 1],\n",
        "                          strides=[1, 2, 2, 1],\n",
        "                          padding='SAME')\n",
        "\n",
        "def convolutional_layer(input_x, shape):\n",
        "    W = init_weights(shape)\n",
        "    b = init_bias([shape[3]])\n",
        "    return tf.nn.relu(conv2d(input_x, W) + b)\n",
        "\n",
        "def normal_full_layer(input_layer, size):\n",
        "    input_size = int(input_layer.get_shape()[1])\n",
        "    W = init_weights([input_size, size])\n",
        "    b = init_bias([size])\n",
        "    return tf.matmul(input_layer, W) + b"
      ]
    },
    {
      "cell_type": "markdown",
      "metadata": {
        "id": "jVAVI2tmFizx"
      },
      "source": [
        "### Create the Layers\n",
        "\n",
        "** Create a convolutional layer and a pooling layer as we did for MNIST. **\n",
        "** Its up to you what the 2d size of the convolution should be, but the last two digits need to be 3 and 32 because of the 3 color channels and 32 pixels. So for example you could use:**\n",
        "\n",
        "        convo_1 = convolutional_layer(x,shape=[4,4,3,32])"
      ]
    },
    {
      "cell_type": "code",
      "execution_count": null,
      "metadata": {
        "id": "FEV54YihFiz-"
      },
      "outputs": [],
      "source": []
    },
    {
      "cell_type": "markdown",
      "metadata": {
        "id": "DlYtXUVPFiz_"
      },
      "source": [
        "** Create the next convolutional and pooling layers.  The last two dimensions of the convo_2 layer should be 32,64 **"
      ]
    },
    {
      "cell_type": "code",
      "execution_count": null,
      "metadata": {
        "id": "7pVJZJhqFi0A"
      },
      "outputs": [],
      "source": []
    },
    {
      "cell_type": "markdown",
      "metadata": {
        "id": "B9A3q0k9Fi0A"
      },
      "source": [
        "** Now create a flattened layer by reshaping the pooling layer into [-1,8 \\* 8 \\* 64] or [-1,4096] **"
      ]
    },
    {
      "cell_type": "code",
      "execution_count": null,
      "metadata": {
        "id": "FwTDU5S1Fi0A"
      },
      "outputs": [],
      "source": [
        "8*8*64"
      ]
    },
    {
      "cell_type": "code",
      "execution_count": null,
      "metadata": {
        "id": "tkbiIgwMFi0B"
      },
      "outputs": [],
      "source": []
    },
    {
      "cell_type": "markdown",
      "metadata": {
        "id": "Xg7pNi0gFi0C"
      },
      "source": [
        "** Create a new full layer using the normal_full_layer function and passing in your flattend convolutional 2 layer with size=1024. (You could also choose to reduce this to something like 512)**"
      ]
    },
    {
      "cell_type": "code",
      "execution_count": null,
      "metadata": {
        "id": "z7Ys_oCRFi0C"
      },
      "outputs": [],
      "source": []
    },
    {
      "cell_type": "markdown",
      "metadata": {
        "id": "Xae_PCRdFi0C"
      },
      "source": [
        "** Now create the dropout layer with tf.nn.dropout, remember to pass in your hold_prob placeholder. **"
      ]
    },
    {
      "cell_type": "code",
      "execution_count": null,
      "metadata": {
        "id": "S4ez_WFhFi0C",
        "outputId": "04ff7e66-2846-4661-b2ff-23220cd6c98d"
      },
      "outputs": [
        {
          "name": "stdout",
          "output_type": "stream",
          "text": [
            "WARNING:tensorflow:From C:\\Users\\Farid\\anaconda3-NEW\\lib\\site-packages\\tensorflow\\python\\util\\dispatch.py:206: calling dropout (from tensorflow.python.ops.nn_ops) with keep_prob is deprecated and will be removed in a future version.\n",
            "Instructions for updating:\n",
            "Please use `rate` instead of `keep_prob`. Rate should be set to `rate = 1 - keep_prob`.\n"
          ]
        }
      ],
      "source": []
    },
    {
      "cell_type": "markdown",
      "metadata": {
        "id": "uLQcGwvQFi0C"
      },
      "source": [
        "** Finally set the output to y_pred by passing in the dropout layer into the normal_full_layer function. The size should be 10 because of the 10 possible labels**"
      ]
    },
    {
      "cell_type": "code",
      "execution_count": null,
      "metadata": {
        "id": "rLq98ylpFi0D"
      },
      "outputs": [],
      "source": []
    },
    {
      "cell_type": "markdown",
      "metadata": {
        "id": "hhk69aonFi0D"
      },
      "source": [
        "### Loss Function\n",
        "\n",
        "** Create a cross_entropy loss function **"
      ]
    },
    {
      "cell_type": "code",
      "execution_count": null,
      "metadata": {
        "id": "tta-ykcIFi0D",
        "outputId": "952cb469-96fa-4510-e1a2-09bc9e98396c"
      },
      "outputs": [
        {
          "name": "stdout",
          "output_type": "stream",
          "text": [
            "WARNING:tensorflow:From C:\\Users\\Farid\\anaconda3-NEW\\lib\\site-packages\\tensorflow\\python\\util\\dispatch.py:206: softmax_cross_entropy_with_logits (from tensorflow.python.ops.nn_ops) is deprecated and will be removed in a future version.\n",
            "Instructions for updating:\n",
            "\n",
            "Future major versions of TensorFlow will allow gradients to flow\n",
            "into the labels input on backprop by default.\n",
            "\n",
            "See `tf.nn.softmax_cross_entropy_with_logits_v2`.\n",
            "\n"
          ]
        }
      ],
      "source": []
    },
    {
      "cell_type": "markdown",
      "metadata": {
        "id": "IpHCBK2EFi0D"
      },
      "source": [
        "### Optimizer\n",
        "** Create the optimizer using an Adam Optimizer. **"
      ]
    },
    {
      "cell_type": "code",
      "execution_count": null,
      "metadata": {
        "id": "OiUm9KLRFi0E"
      },
      "outputs": [],
      "source": []
    },
    {
      "cell_type": "markdown",
      "metadata": {
        "id": "FNivfK_bFi0E"
      },
      "source": [
        "** Create a variable to intialize all the global tf variables. **"
      ]
    },
    {
      "cell_type": "code",
      "execution_count": null,
      "metadata": {
        "id": "nLu7orzJFi0E"
      },
      "outputs": [],
      "source": []
    },
    {
      "cell_type": "markdown",
      "metadata": {
        "id": "_xui1Zv7Fi0F"
      },
      "source": [
        "## Graph Session\n",
        "\n",
        "** Perform the training and test print outs in a Tf session and run your model! **"
      ]
    },
    {
      "cell_type": "code",
      "execution_count": null,
      "metadata": {
        "id": "m_bf-xPfFi0F",
        "outputId": "7251acad-b8d9-448e-cf91-fe3c5d2511aa"
      },
      "outputs": [
        {
          "name": "stdout",
          "output_type": "stream",
          "text": [
            "Currently on step 0\n",
            "Accuracy is:\n",
            "0.1073\n",
            "\n",
            "\n",
            "Currently on step 100\n",
            "Accuracy is:\n",
            "0.4122\n",
            "\n",
            "\n",
            "Currently on step 200\n",
            "Accuracy is:\n",
            "0.4717\n",
            "\n",
            "\n",
            "Currently on step 300\n",
            "Accuracy is:\n",
            "0.5037\n",
            "\n",
            "\n",
            "Currently on step 400\n",
            "Accuracy is:\n",
            "0.5287\n",
            "\n",
            "\n",
            "Currently on step 499\n",
            "Accuracy is:\n",
            "0.5547\n",
            "\n",
            "\n"
          ]
        }
      ],
      "source": []
    },
    {
      "cell_type": "code",
      "execution_count": null,
      "metadata": {
        "id": "WEXjzseZFi0G"
      },
      "outputs": [],
      "source": []
    }
  ],
  "metadata": {
    "kernelspec": {
      "display_name": "Python 3",
      "language": "python",
      "name": "python3"
    },
    "language_info": {
      "codemirror_mode": {
        "name": "ipython",
        "version": 3
      },
      "file_extension": ".py",
      "mimetype": "text/x-python",
      "name": "python",
      "nbconvert_exporter": "python",
      "pygments_lexer": "ipython3",
      "version": "3.8.5"
    },
    "colab": {
      "provenance": [],
      "include_colab_link": true
    }
  },
  "nbformat": 4,
  "nbformat_minor": 0
}